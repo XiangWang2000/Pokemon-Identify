{
 "cells": [
  {
   "cell_type": "code",
   "execution_count": 1,
   "id": "820834d2",
   "metadata": {
    "ExecuteTime": {
     "end_time": "2022-04-26T10:29:18.670807Z",
     "start_time": "2022-04-26T10:29:15.350092Z"
    }
   },
   "outputs": [],
   "source": [
    "import os\n",
    "import numpy as np\n",
    "import tensorflow as tf\n",
    "import matplotlib.pyplot as plt\n",
    "from tensorflow import keras\n",
    "from tensorflow.keras import layers\n",
    "import cv2\n",
    "from tensorflow.keras.layers import Flatten, Dense\n",
    "from tensorflow.keras import Model\n",
    "from tensorflow.keras.applications.vgg16 import VGG16, preprocess_input\n",
    "from tensorflow.keras.layers import BatchNormalization\n",
    "from flask import Flask , render_template , request , send_from_directory"
   ]
  },
  {
   "cell_type": "code",
   "execution_count": 2,
   "id": "0e260517",
   "metadata": {
    "ExecuteTime": {
     "end_time": "2022-04-26T10:29:18.695771Z",
     "start_time": "2022-04-26T10:29:18.670807Z"
    }
   },
   "outputs": [],
   "source": [
    "CATEGORIES=[]\n",
    "path = 'PokemonData/'\n",
    "allFileList = os.listdir(path)\n",
    "for file in allFileList:\n",
    "    if os.path.isdir(os.path.join(path,file)):\n",
    "        CATEGORIES.append(file)"
   ]
  },
  {
   "cell_type": "code",
   "execution_count": 3,
   "id": "cb6aa1da",
   "metadata": {},
   "outputs": [],
   "source": [
    "PokemonName = CATEGORIES\n",
    "num_category=len(CATEGORIES)\n",
    "IMG_SIZE=64"
   ]
  },
  {
   "cell_type": "code",
   "execution_count": 4,
   "id": "3881ecf9",
   "metadata": {
    "ExecuteTime": {
     "end_time": "2022-04-26T10:29:19.448587Z",
     "start_time": "2022-04-26T10:29:18.861098Z"
    }
   },
   "outputs": [],
   "source": [
    "vgg_model = VGG16(weights='imagenet', include_top=False,\n",
    "                  input_shape=(IMG_SIZE, IMG_SIZE, 3))\n",
    "\n",
    "x = Flatten()(vgg_model.output)\n",
    "x = Dense(512, activation='relu')(x)\n",
    "x = BatchNormalization()(x)\n",
    "outputs = Dense(num_category, activation='softmax')(x)\n",
    "\n",
    "model = Model(inputs=vgg_model.inputs, outputs=outputs)"
   ]
  },
  {
   "cell_type": "code",
   "execution_count": 5,
   "id": "21ec56cc",
   "metadata": {
    "ExecuteTime": {
     "end_time": "2022-04-26T10:29:19.476331Z",
     "start_time": "2022-04-26T10:29:19.448587Z"
    }
   },
   "outputs": [
    {
     "name": "stdout",
     "output_type": "stream",
     "text": [
      "<keras.engine.input_layer.InputLayer object at 0x000001E2510EF400> False\n",
      "<keras.layers.convolutional.Conv2D object at 0x000001E251123970> False\n",
      "<keras.layers.convolutional.Conv2D object at 0x000001E2511D1040> False\n",
      "<keras.layers.pooling.MaxPooling2D object at 0x000001E25131B490> False\n",
      "<keras.layers.convolutional.Conv2D object at 0x000001E2511D1610> False\n",
      "<keras.layers.convolutional.Conv2D object at 0x000001E2513362B0> False\n",
      "<keras.layers.pooling.MaxPooling2D object at 0x000001E25133A1C0> False\n",
      "<keras.layers.convolutional.Conv2D object at 0x000001E25132D880> False\n",
      "<keras.layers.convolutional.Conv2D object at 0x000001E251388040> False\n",
      "<keras.layers.convolutional.Conv2D object at 0x000001E251388C10> False\n",
      "<keras.layers.pooling.MaxPooling2D object at 0x000001E25138CB20> False\n",
      "<keras.layers.convolutional.Conv2D object at 0x000001E25138C4F0> False\n",
      "<keras.layers.convolutional.Conv2D object at 0x000001E251392D90> False\n",
      "<keras.layers.convolutional.Conv2D object at 0x000001E25138CA30> False\n",
      "<keras.layers.pooling.MaxPooling2D object at 0x000001E25139BD30> False\n",
      "<keras.layers.convolutional.Conv2D object at 0x000001E25139FC40> False\n",
      "<keras.layers.convolutional.Conv2D object at 0x000001E25138C7C0> True\n",
      "<keras.layers.convolutional.Conv2D object at 0x000001E251388430> True\n",
      "<keras.layers.pooling.MaxPooling2D object at 0x000001E2511D13D0> True\n",
      "<keras.layers.core.flatten.Flatten object at 0x000001E2510EFEE0> True\n",
      "<keras.layers.core.dense.Dense object at 0x000001E2511D1F10> True\n",
      "<keras.layers.normalization.batch_normalization.BatchNormalization object at 0x000001E2513987F0> True\n",
      "<keras.layers.core.dense.Dense object at 0x000001E2513A4FD0> True\n"
     ]
    }
   ],
   "source": [
    "#存取最佳權重，並使用EarlyStopping來避免overfitting\n",
    "vgg_model.trainable = True\n",
    "\n",
    "trainable_layer = 3\n",
    "for layer in vgg_model.layers[:-trainable_layer]:\n",
    "    layer.trainable = False\n",
    "\n",
    "for layer in model.layers:\n",
    "    print(layer, layer.trainable)\n",
    "\n",
    "learning_rate = 1e-4\n",
    "optimizer = keras.optimizers.Adam(learning_rate=learning_rate)\n",
    "\n",
    "model.compile(loss='categorical_crossentropy',\n",
    "              optimizer=optimizer,\n",
    "              metrics=['accuracy'])"
   ]
  },
  {
   "cell_type": "code",
   "execution_count": 6,
   "id": "fe80012b",
   "metadata": {},
   "outputs": [],
   "source": [
    "model.load_weights('basic_model-best-model.h5')"
   ]
  },
  {
   "cell_type": "code",
   "execution_count": 7,
   "id": "0d330b91",
   "metadata": {
    "ExecuteTime": {
     "end_time": "2022-04-26T10:29:19.507501Z",
     "start_time": "2022-04-26T10:29:19.493775Z"
    }
   },
   "outputs": [],
   "source": [
    "COUNT=0\n",
    "app = Flask('_name_') #呼叫Flask Function\n",
    "app.config['SEND_FILE_MAX_AGE_DEFAULT'] = 1 #暫存"
   ]
  },
  {
   "cell_type": "code",
   "execution_count": 8,
   "id": "f7643c78",
   "metadata": {
    "ExecuteTime": {
     "end_time": "2022-04-26T10:29:19.523162Z",
     "start_time": "2022-04-26T10:29:19.510492Z"
    }
   },
   "outputs": [],
   "source": [
    "@app.route('/',endpoint=\"main\")\n",
    "def main():\n",
    "    return render_template('index.html')"
   ]
  },
  {
   "cell_type": "code",
   "execution_count": 9,
   "id": "d1b5b52b",
   "metadata": {
    "ExecuteTime": {
     "end_time": "2022-04-26T10:29:19.539766Z",
     "start_time": "2022-04-26T10:29:19.526156Z"
    }
   },
   "outputs": [],
   "source": [
    "@app.route('/home',methods=['POST'])\n",
    "def home():\n",
    "    ratio = []\n",
    "    global COUNT\n",
    "    global PokemonName\n",
    "    img = request.files['image']##抓圖片\n",
    "    \n",
    "    img.save(\"{}.jpg\".format(COUNT))##存圖片\n",
    "    img_arr = cv2.imread(\"{}.jpg\".format(COUNT),1)##0為黑白,1為彩色\n",
    "    \n",
    "    img_arr = cv2.resize(img_arr,(64,64))#重整大小\n",
    "    img_arr = img_arr/255.0 ##一般化\n",
    "    img_arr = img_arr.reshape(1,64,64,3)\n",
    "    prediction = model.predict(img_arr) ##利用模型預測\n",
    "   \n",
    "    \n",
    "    for i in range(num_category):\n",
    "        ratio.append(round(prediction[0,i],2))\n",
    "   \n",
    "    \n",
    "    preds = np.array(ratio) \n",
    "    \n",
    "    data = {'Probability' : preds, \n",
    "            'Name' : PokemonName}\n",
    "    COUNT+=1 ##下一個圖片\n",
    "    return render_template('prediction.html', Data = data)"
   ]
  },
  {
   "cell_type": "code",
   "execution_count": 10,
   "id": "bfb2005f",
   "metadata": {
    "ExecuteTime": {
     "end_time": "2022-04-26T10:29:19.556522Z",
     "start_time": "2022-04-26T10:29:19.541761Z"
    }
   },
   "outputs": [],
   "source": [
    "@app.route('/load_img')\n",
    "def load_img():\n",
    "    global COUNT\n",
    "    return send_from_directory(\".\",\"{}.jpg\".format(COUNT-1))"
   ]
  },
  {
   "cell_type": "code",
   "execution_count": null,
   "id": "1ed9562b",
   "metadata": {
    "ExecuteTime": {
     "end_time": "2022-04-26T10:37:59.809317Z",
     "start_time": "2022-04-26T10:29:19.558515Z"
    },
    "scrolled": true
   },
   "outputs": [
    {
     "name": "stdout",
     "output_type": "stream",
     "text": [
      " * Serving Flask app \"_name_\" (lazy loading)\n",
      " * Environment: production\n",
      "\u001b[31m   WARNING: This is a development server. Do not use it in a production deployment.\u001b[0m\n",
      "\u001b[2m   Use a production WSGI server instead.\u001b[0m\n",
      " * Debug mode: off\n"
     ]
    },
    {
     "name": "stderr",
     "output_type": "stream",
     "text": [
      " * Running on http://127.0.0.1:5000/ (Press CTRL+C to quit)\n",
      "127.0.0.1 - - [29/Apr/2022 00:41:25] \"GET / HTTP/1.1\" 200 -\n",
      "127.0.0.1 - - [29/Apr/2022 00:41:25] \"GET /static/style.css HTTP/1.1\" 404 -\n",
      "127.0.0.1 - - [29/Apr/2022 00:41:25] \"GET /favicon.ico HTTP/1.1\" 404 -\n",
      "127.0.0.1 - - [29/Apr/2022 00:41:32] \"POST /home HTTP/1.1\" 200 -\n",
      "127.0.0.1 - - [29/Apr/2022 00:41:32] \"GET /static/style.css HTTP/1.1\" 404 -\n",
      "127.0.0.1 - - [29/Apr/2022 00:41:32] \"GET /load_img HTTP/1.1\" 200 -\n",
      "127.0.0.1 - - [29/Apr/2022 00:41:43] \"GET / HTTP/1.1\" 200 -\n",
      "127.0.0.1 - - [29/Apr/2022 00:41:43] \"GET /static/style.css HTTP/1.1\" 404 -\n",
      "127.0.0.1 - - [29/Apr/2022 00:41:47] \"POST /home HTTP/1.1\" 200 -\n",
      "127.0.0.1 - - [29/Apr/2022 00:41:47] \"GET /static/style.css HTTP/1.1\" 404 -\n",
      "127.0.0.1 - - [29/Apr/2022 00:41:47] \"GET /load_img HTTP/1.1\" 200 -\n",
      "127.0.0.1 - - [29/Apr/2022 00:41:55] \"GET / HTTP/1.1\" 200 -\n",
      "127.0.0.1 - - [29/Apr/2022 00:41:55] \"GET /static/style.css HTTP/1.1\" 404 -\n",
      "127.0.0.1 - - [29/Apr/2022 00:41:59] \"POST /home HTTP/1.1\" 200 -\n",
      "127.0.0.1 - - [29/Apr/2022 00:41:59] \"GET /static/style.css HTTP/1.1\" 404 -\n",
      "127.0.0.1 - - [29/Apr/2022 00:41:59] \"GET /load_img HTTP/1.1\" 200 -\n",
      "127.0.0.1 - - [29/Apr/2022 00:42:06] \"GET / HTTP/1.1\" 200 -\n",
      "127.0.0.1 - - [29/Apr/2022 00:42:06] \"GET /static/style.css HTTP/1.1\" 404 -\n",
      "127.0.0.1 - - [29/Apr/2022 00:42:11] \"POST /home HTTP/1.1\" 200 -\n",
      "127.0.0.1 - - [29/Apr/2022 00:42:11] \"GET /static/style.css HTTP/1.1\" 404 -\n",
      "127.0.0.1 - - [29/Apr/2022 00:42:11] \"GET /load_img HTTP/1.1\" 200 -\n",
      "127.0.0.1 - - [29/Apr/2022 00:42:17] \"GET / HTTP/1.1\" 200 -\n",
      "127.0.0.1 - - [29/Apr/2022 00:42:17] \"GET /static/style.css HTTP/1.1\" 404 -\n",
      "127.0.0.1 - - [29/Apr/2022 00:42:21] \"POST /home HTTP/1.1\" 200 -\n",
      "127.0.0.1 - - [29/Apr/2022 00:42:21] \"GET /static/style.css HTTP/1.1\" 404 -\n",
      "127.0.0.1 - - [29/Apr/2022 00:42:21] \"GET /load_img HTTP/1.1\" 200 -\n",
      "127.0.0.1 - - [29/Apr/2022 00:42:26] \"GET / HTTP/1.1\" 200 -\n",
      "127.0.0.1 - - [29/Apr/2022 00:42:26] \"GET /static/style.css HTTP/1.1\" 404 -\n",
      "127.0.0.1 - - [29/Apr/2022 00:42:33] \"POST /home HTTP/1.1\" 200 -\n",
      "127.0.0.1 - - [29/Apr/2022 00:42:33] \"GET /static/style.css HTTP/1.1\" 404 -\n",
      "127.0.0.1 - - [29/Apr/2022 00:42:33] \"GET /load_img HTTP/1.1\" 200 -\n",
      "127.0.0.1 - - [29/Apr/2022 00:42:37] \"GET / HTTP/1.1\" 200 -\n",
      "127.0.0.1 - - [29/Apr/2022 00:42:37] \"GET /static/style.css HTTP/1.1\" 404 -\n",
      "127.0.0.1 - - [29/Apr/2022 00:42:43] \"POST /home HTTP/1.1\" 200 -\n",
      "127.0.0.1 - - [29/Apr/2022 00:42:43] \"GET /static/style.css HTTP/1.1\" 404 -\n",
      "127.0.0.1 - - [29/Apr/2022 00:42:43] \"GET /load_img HTTP/1.1\" 200 -\n",
      "127.0.0.1 - - [29/Apr/2022 00:42:46] \"GET / HTTP/1.1\" 200 -\n",
      "127.0.0.1 - - [29/Apr/2022 00:42:46] \"GET /static/style.css HTTP/1.1\" 404 -\n",
      "127.0.0.1 - - [29/Apr/2022 00:42:50] \"POST /home HTTP/1.1\" 200 -\n",
      "127.0.0.1 - - [29/Apr/2022 00:42:50] \"GET /static/style.css HTTP/1.1\" 404 -\n",
      "127.0.0.1 - - [29/Apr/2022 00:42:50] \"GET /load_img HTTP/1.1\" 200 -\n",
      "127.0.0.1 - - [29/Apr/2022 00:42:58] \"GET / HTTP/1.1\" 200 -\n",
      "127.0.0.1 - - [29/Apr/2022 00:42:58] \"GET /static/style.css HTTP/1.1\" 404 -\n",
      "127.0.0.1 - - [29/Apr/2022 00:43:03] \"POST /home HTTP/1.1\" 200 -\n",
      "127.0.0.1 - - [29/Apr/2022 00:43:03] \"GET /static/style.css HTTP/1.1\" 404 -\n",
      "127.0.0.1 - - [29/Apr/2022 00:43:03] \"GET /load_img HTTP/1.1\" 200 -\n",
      "127.0.0.1 - - [29/Apr/2022 00:43:07] \"GET / HTTP/1.1\" 200 -\n",
      "127.0.0.1 - - [29/Apr/2022 00:43:07] \"GET /static/style.css HTTP/1.1\" 404 -\n"
     ]
    }
   ],
   "source": [
    "if __name__=='__main__':\n",
    "    app.run(debug=False)"
   ]
  },
  {
   "cell_type": "code",
   "execution_count": null,
   "id": "fc4b3a8e",
   "metadata": {},
   "outputs": [],
   "source": []
  },
  {
   "cell_type": "code",
   "execution_count": null,
   "id": "4920f2b1",
   "metadata": {},
   "outputs": [],
   "source": []
  }
 ],
 "metadata": {
  "kernelspec": {
   "display_name": "Python 3 (ipykernel)",
   "language": "python",
   "name": "python3"
  },
  "language_info": {
   "codemirror_mode": {
    "name": "ipython",
    "version": 3
   },
   "file_extension": ".py",
   "mimetype": "text/x-python",
   "name": "python",
   "nbconvert_exporter": "python",
   "pygments_lexer": "ipython3",
   "version": "3.9.7"
  }
 },
 "nbformat": 4,
 "nbformat_minor": 5
}
